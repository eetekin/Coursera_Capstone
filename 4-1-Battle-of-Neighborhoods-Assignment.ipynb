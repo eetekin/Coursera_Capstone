{
 "cells": [
  {
   "cell_type": "markdown",
   "metadata": {},
   "source": [
    "# The Battle of Neighborhoods\n",
    "By Eylul Tekin"
   ]
  },
  {
   "cell_type": "markdown",
   "metadata": {},
   "source": [
    "## I. Introduction\n",
    "There is a new startup company that plans to launch an application of food delivery service similar to Postmates, Doordash and Uber Eats. To pilot their application, the company will launch their application in one of the cities listed below:\n",
    "\n",
    "1. New York City\n",
    "2. Chicago\n",
    "3. San Francisco\n",
    "\n",
    "The goal of this new startup is to decide which metropolitan city is the better to invest and launch their first market. The sucess of a market can be predicted by various factors, one important factor being the availability of options to deliver from. The current trends in the market is another important predictor. Because the target audience of the startup is younger users who are quite familiar with online apps as well as food delivery services, the their food preferences are of higher priority. Based on recent research, consumers between the ages of 18 and 34 are especially interested in trying diverse cuisines. In addition, survey research conducted by Technomic indicate that more than half of Americans are more interested in trying different cuisines than they were one year ago. Thus, the objective is to identify the best metropolitan city to launch the pilot online food delivery service based on various and diverse cuisine options available within each city. \n",
    "\n",
    "Business Problem 1: Which city has a more diverse restaurant scene that will boost the potential success of the initial launch?  \n",
    "\n",
    "Business Problem 2: If there are multiple cities with diverse restaurants, which of these receive higher ratings?\n",
    "\n",
    "I can use available location and venue data to obtain different groups (or clusters) of restaurants within each city. The number of optimal clusters can be utilized as an indicator of a diverse restaurant scene. Furthermore, I can examine the content of each cluster as well as the number of members within each cluster as other indications of diversity. To address the business problems at hand, I need to use descriptive modeling which will allow me to describe existing culinary scene within each city. More specifically, I will use k-means cluster analysis to determine how many clusters of restaurants there are within each city.\n",
    "\n",
    "## II. Data\n",
    "\n",
    "To address these problems, I will first acquire location data for each city. I will use neighborhoods as the level of analyses. Thus, I need a list of neighborhoods in each city as well as their latitudes and longitudes. If the location information is readily available in the dataset, I will use that information. If not, I will use the library `geopy` to obtain this information. Below I present the links that I obtained the neighborhood and location data from:\n",
    "\n",
    "#### 1. New York City\n",
    "\n",
    "For New York City, the list of neighborhoods and their locations were readily available in the link. From this link, I will filter neighborhood, latitude, and longitude information and create a new dataset:\n",
    "\n",
    "https://cocl.us/new_york_dataset\n",
    "\n",
    "#### 2. Chicago\n",
    "\n",
    "To get the list of neighborhoods in Chicago, I used the following Wikipedia link. I will use libraries `BeautifulSoup` and `geopy` to get the neighborhood list and coordinates, respectively.\n",
    "\n",
    "https://en.wikipedia.org/wiki/Category:Neighborhoods_in_Chicago\n",
    "\n",
    "#### 3. San Francisco\n",
    "\n",
    "To get the list of neighborhoods in San Francisco, I used the following Wikipedia link. As with Chicago, I will use libraries `BeautifulSoup` and `geopy` to get the neighborhood list and coordinates, respectively.\n",
    "\n",
    "https://en.wikipedia.org/wiki/Category:Neighborhoods_in_San_Francisco\n",
    "\n",
    "Then using neighborhood and location data, I will get the services of Foursquare API to acquire the types of restaurant that exist within each neighborhood of three cities. Given the goal of the peoject, I will limit my search to 'restaurants'. By using frequencies of restaurant categories within each neighborhood and the machine learning algorithm, clustering, I aim to identify diverse restaurant clusters within each city and examine their content. "
   ]
  }
 ],
 "metadata": {
  "kernelspec": {
   "display_name": "Python 3",
   "language": "python",
   "name": "python3"
  },
  "language_info": {
   "codemirror_mode": {
    "name": "ipython",
    "version": 3
   },
   "file_extension": ".py",
   "mimetype": "text/x-python",
   "name": "python",
   "nbconvert_exporter": "python",
   "pygments_lexer": "ipython3",
   "version": "3.7.4"
  }
 },
 "nbformat": 4,
 "nbformat_minor": 4
}
